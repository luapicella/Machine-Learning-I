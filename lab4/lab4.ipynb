{
 "cells": [
  {
   "cell_type": "markdown",
   "metadata": {},
   "source": [
    "# LAB4"
   ]
  },
  {
   "cell_type": "markdown",
   "metadata": {},
   "source": [
    "In this laboratory we will focus on computing probability densities and ML estimates."
   ]
  },
  {
   "cell_type": "code",
   "execution_count": 5,
   "metadata": {},
   "outputs": [],
   "source": [
    "import numpy as np\n",
    "import matplotlib.pyplot as plt\n",
    "\n",
    "def vcol(vector, shape0):\n",
    "    # Auxiliary function to transform 1-dim vectors to column vectors.\n",
    "    return vector.reshape(shape0, 1)\n",
    "\n",
    "\n",
    "def vrow(vector, shape1):\n",
    "    # Auxiliary function to transform 1-dim vecotrs to row vectors.\n",
    "    return vector.reshape(1, shape1)\n",
    "\n",
    "def centerDataset(dataset):\n",
    "    return dataset - dataset.mean(axis=1)\n"
   ]
  },
  {
   "cell_type": "markdown",
   "metadata": {},
   "source": [
    "## Multivariate Gaussian density\n"
   ]
  },
  {
   "cell_type": "code",
   "execution_count": 4,
   "metadata": {},
   "outputs": [],
   "source": [
    "def logpdf_GAU_ND(x, mu, sigma):\n",
    "    return -(x.shape[0]/2)*np.log(2*np.pi)-(1/2)*(np.linalg.slogdet(sigma)[1])-(1/2)*((np.dot((x-mu).T, np.linalg.inv(sigma))).T*(x-mu)).sum(axis=0)\n",
    "    "
   ]
  },
  {
   "cell_type": "code",
   "execution_count": 7,
   "metadata": {},
   "outputs": [
    {
     "data": {
      "image/png": "[encoded data removed]",
      "text/plain": [
       "<Figure size 432x288 with 1 Axes>"
      ]
     },
     "metadata": {
      "needs_background": "light"
     },
     "output_type": "display_data"
    }
   ],
   "source": [
    "plt.figure()\n",
    "XPlot = np.linspace(-8, 12, 1000)\n",
    "m = np.ones((1,1)) * 1.0\n",
    "C = np.ones((1,1)) * 2.0\n",
    "plt.plot(XPlot.ravel(), np.exp(logpdf_GAU_ND(vrow(XPlot,XPlot.size), m, C)))\n",
    "plt.show()\n"
   ]
  },
  {
   "cell_type": "code",
   "execution_count": 9,
   "metadata": {},
   "outputs": [
    {
     "name": "stdout",
     "output_type": "stream",
     "text": [
      "0.0\n"
     ]
    }
   ],
   "source": [
    "pdfSol = np.load('solution/llGAU.npy')\n",
    "pdfGau = logpdf_GAU_ND(vrow(XPlot, XPlot.size), m, C)\n",
    "print(np.abs(pdfSol - pdfGau).max())"
   ]
  },
  {
   "cell_type": "code",
   "execution_count": 10,
   "metadata": {},
   "outputs": [
    {
     "name": "stdout",
     "output_type": "stream",
     "text": [
      "0.0\n"
     ]
    }
   ],
   "source": [
    "XND = np.load('solution/XND.npy')\n",
    "mu = np.load('solution/muND.npy')\n",
    "C = np.load('solution/CND.npy')\n",
    "pdfSol = np.load('solution/llND.npy')\n",
    "pdfGau = logpdf_GAU_ND(XND, mu, C)\n",
    "print(np.abs(pdfSol - pdfGau).max())\n"
   ]
  },
  {
   "cell_type": "code",
   "execution_count": 12,
   "metadata": {},
   "outputs": [],
   "source": [
    "def loglikelihood(dataset, mu, var):\n",
    "    # Function that computes the log-likelihood for a dataset.\n",
    "    # Returns the computed log-likelihood\n",
    "    lll_samples = logpdf_GAU_ND(dataset, mu, var)\n",
    "    return lll_samples.sum()  "
   ]
  },
  {
   "cell_type": "code",
   "execution_count": 18,
   "metadata": {},
   "outputs": [
    {
     "data": {
      "text/plain": [
       "array([[0.95106724, 0.08883769],\n",
       "       [0.08883769, 0.82654486]])"
      ]
     },
     "execution_count": 18,
     "metadata": {},
     "output_type": "execute_result"
    }
   ],
   "source": [
    "C_ML =  np.dot(XND,XND.T) / float(XND.shape[1])\n",
    "C_ML"
   ]
  },
  {
   "cell_type": "code",
   "execution_count": 27,
   "metadata": {},
   "outputs": [
    {
     "data": {
      "text/plain": [
       "array([[-0.07187197],\n",
       "       [ 0.05979594]])"
      ]
     },
     "execution_count": 27,
     "metadata": {},
     "output_type": "execute_result"
    }
   ],
   "source": [
    "m_ML = XND.mean(axis=1)\n",
    "m_ML = vcol(m_ML, m_ML.size)\n",
    "m_ML"
   ]
  },
  {
   "cell_type": "code",
   "execution_count": 28,
   "metadata": {},
   "outputs": [
    {
     "data": {
      "text/plain": [
       "-270.7077378683101"
      ]
     },
     "execution_count": 28,
     "metadata": {},
     "output_type": "execute_result"
    }
   ],
   "source": [
    "ll = loglikelihood(XND, m_ML, C_ML)\n",
    "ll\n"
   ]
  }
 ],
 "metadata": {
  "interpreter": {
   "hash": "20077b7d1bf57ab26971ff2f0fd3e9d3bdb941da4b07257f74cc5c118759c9ef"
  },
  "kernelspec": {
   "display_name": "Python 3.8.10 ('venv': venv)",
   "language": "python",
   "name": "python3"
  },
  "language_info": {
   "codemirror_mode": {
    "name": "ipython",
    "version": 3
   },
   "file_extension": ".py",
   "mimetype": "text/x-python",
   "name": "python",
   "nbconvert_exporter": "python",
   "pygments_lexer": "ipython3",
   "version": "3.8.10"
  },
  "orig_nbformat": 4
 },
 "nbformat": 4,
 "nbformat_minor": 2
}
