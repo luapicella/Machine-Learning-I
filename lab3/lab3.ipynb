{
 "cells": [
  {
   "cell_type": "markdown",
   "metadata": {},
   "source": [
    "# LAB3"
   ]
  },
  {
   "cell_type": "code",
   "execution_count": 21,
   "metadata": {},
   "outputs": [],
   "source": [
    "import numpy as np\n",
    "import matplotlib\n",
    "import matplotlib.pyplot as plt\n",
    "import scipy.linalg as sc"
   ]
  },
  {
   "cell_type": "code",
   "execution_count": 22,
   "metadata": {},
   "outputs": [],
   "source": [
    "def mcol(v):\n",
    "    return v.reshape((v.size, 1))\n",
    "\n",
    "def load_iris(filename):\n",
    "\n",
    "    hlabels = {\n",
    "        'Iris-setosa': 0,\n",
    "        'Iris-versicolor': 1,\n",
    "        'Iris-virginica': 2 \n",
    "    }\n",
    "\n",
    "    datalist = []\n",
    "    labellist = []\n",
    "\n",
    "    with open(filename, 'r') as file:\n",
    "        for line in file:\n",
    "            line = line.split(\",\")\n",
    "            name = line[-1].strip()\n",
    "            label = hlabels[name]\n",
    "            attrs = mcol(np.array([float(i) for i in line[:-1]]))\n",
    "            datalist.append(attrs)\n",
    "            labellist.append(label)\n",
    "\n",
    "    return np.hstack(datalist), np.array(labellist, dtype=np.int32)\n",
    "\n",
    "def plot_scatter(D, L):\n",
    "    \n",
    "    D0 = D[:, L==0]\n",
    "    D1 = D[:, L==1]\n",
    "    D2 = D[:, L==2]\n",
    "\n",
    "    hFea = {\n",
    "        0: 'Sepal length',\n",
    "        1: 'Sepal width',\n",
    "        2: 'Petal length',\n",
    "        3: 'Petal width'\n",
    "        }\n",
    "\n",
    "    \n",
    "    plt.figure()\n",
    "    plt.xlabel(\"PCA1\")\n",
    "    plt.ylabel(\"PCA2\")\n",
    "    plt.scatter(D0[0, :], D0[1, :], label = 'Setosa')\n",
    "    plt.scatter(D1[0, :], D1[1, :], label = 'Versicolor')\n",
    "    plt.scatter(D2[0, :], D2[1, :], label = 'Virginica')\n",
    "\n",
    "    plt.legend()\n",
    "    plt.tight_layout() # Use with non-default font size to keep axis label inside the figure\n",
    "    #plt.savefig(folder + '/scatter_%d_%d.pdf' % (dIdx1, dIdx2))\n",
    "    plt.show()"
   ]
  },
  {
   "cell_type": "code",
   "execution_count": 23,
   "metadata": {},
   "outputs": [],
   "source": [
    "D, L = load_iris('../data/iris.csv')"
   ]
  },
  {
   "cell_type": "markdown",
   "metadata": {},
   "source": [
    "## PCA (Principal Component Analysis)"
   ]
  },
  {
   "cell_type": "markdown",
   "metadata": {},
   "source": [
    "The PCA can be computed from  the eigenvectors of the data covariance matrix corresponding to the largest eigenvalues. The first step to implement PCA therefore requires computing the data covariance matrix.\n",
    "\n",
    "$$ C = \\dfrac{1}{N} \\sum_{i=0}^{N} (x_i - \\mu) (x_i- \\mu)^T $$\n",
    "\n",
    "where $ \\mu $ is the dataset mean\n",
    "\n",
    "$$ \\mu = \\dfrac{1}{N} \\sum_{i=0}^{N} x_i  $$\n"
   ]
  },
  {
   "cell_type": "code",
   "execution_count": 24,
   "metadata": {},
   "outputs": [
    {
     "data": {
      "text/plain": [
       "array([[5.84333333],\n",
       "       [3.05733333],\n",
       "       [3.758     ],\n",
       "       [1.19933333]])"
      ]
     },
     "execution_count": 24,
     "metadata": {},
     "output_type": "execute_result"
    }
   ],
   "source": [
    "\n",
    "mu = D.mean(axis=1)\n",
    "mu = mu.reshape((mu.size, 1))\n",
    "#center the data\n",
    "DC = D - mu\n",
    "mu\n"
   ]
  },
  {
   "cell_type": "markdown",
   "metadata": {},
   "source": [
    "\n",
    "Compute the covariance matric **C** as:\n",
    "\n",
    "$$C = \\dfrac{1}{N} D_c D_C^T$$\n",
    "\n"
   ]
  },
  {
   "cell_type": "code",
   "execution_count": 25,
   "metadata": {},
   "outputs": [
    {
     "data": {
      "text/plain": [
       "array([[ 0.68112222, -0.04215111,  1.26582   ,  0.51282889],\n",
       "       [-0.04215111,  0.18871289, -0.32745867, -0.12082844],\n",
       "       [ 1.26582   , -0.32745867,  3.09550267,  1.286972  ],\n",
       "       [ 0.51282889, -0.12082844,  1.286972  ,  0.57713289]])"
      ]
     },
     "execution_count": 25,
     "metadata": {},
     "output_type": "execute_result"
    }
   ],
   "source": [
    "C = np.dot(DC,DC.T) / float(DC.shape[1])\n",
    "C"
   ]
  },
  {
   "cell_type": "markdown",
   "metadata": {},
   "source": [
    "Once we have computed the data covariance matrix, we need to compute its eigenvectors and eigen-\n",
    "values."
   ]
  },
  {
   "cell_type": "code",
   "execution_count": 26,
   "metadata": {},
   "outputs": [
    {
     "data": {
      "text/plain": [
       "array([0.02367619, 0.0776881 , 0.24105294, 4.20005343])"
      ]
     },
     "execution_count": 26,
     "metadata": {},
     "output_type": "execute_result"
    }
   ],
   "source": [
    "s, U = np.linalg.eigh(C)\n",
    "s"
   ]
  },
  {
   "cell_type": "markdown",
   "metadata": {},
   "source": [
    "The m leading eigenvectors can be\n",
    "retrieved from U (here we also reverse the order of the columns of U so that the leading eigenvectors are in the first m columns).\n"
   ]
  },
  {
   "cell_type": "code",
   "execution_count": 27,
   "metadata": {},
   "outputs": [
    {
     "data": {
      "text/plain": [
       "array([[-0.36138659,  0.65658877],\n",
       "       [ 0.08452251,  0.73016143],\n",
       "       [-0.85667061, -0.17337266],\n",
       "       [-0.3582892 , -0.07548102]])"
      ]
     },
     "execution_count": 27,
     "metadata": {},
     "output_type": "execute_result"
    }
   ],
   "source": [
    "m = 2\n",
    "P = U[:, ::-1][:, 0:m]\n",
    "P"
   ]
  },
  {
   "cell_type": "markdown",
   "metadata": {},
   "source": [
    "Since the covariance matrix is semi-de\u001cnite positive, we can also get the sorted eigenvectors from the Singular Value Decomposition.\n",
    "\n",
    "$$ C = U \\Sigma V^T $$\n",
    "\n",
    "In fatc, in this case $V^T = U^T $, thus $U \\Sigma V^T = U \\Sigma U^T$ is also an eigen-decomposition of $C$ \n"
   ]
  },
  {
   "cell_type": "code",
   "execution_count": 28,
   "metadata": {},
   "outputs": [],
   "source": [
    "U, s, Vh = np.linalg.svd(C)"
   ]
  },
  {
   "cell_type": "code",
   "execution_count": 29,
   "metadata": {},
   "outputs": [],
   "source": [
    "P = U[:, 0:m]"
   ]
  },
  {
   "cell_type": "markdown",
   "metadata": {},
   "source": [
    "Finally, we can apply the projection to a single point x or to a matrix of samples D as:"
   ]
  },
  {
   "cell_type": "code",
   "execution_count": 30,
   "metadata": {},
   "outputs": [
    {
     "data": {
      "text/plain": [
       "(2, 150)"
      ]
     },
     "execution_count": 30,
     "metadata": {},
     "output_type": "execute_result"
    }
   ],
   "source": [
    "#y = np.dot(P.T, x)\n",
    "DP = np.dot(P.T, DC)\n",
    "DP.shape"
   ]
  },
  {
   "cell_type": "markdown",
   "metadata": {},
   "source": [
    "As we can se the classes present some zone where the point are overllapped"
   ]
  },
  {
   "cell_type": "code",
   "execution_count": 31,
   "metadata": {},
   "outputs": [
    {
     "data": {
      "image/png": "[encoded data removed]",
      "text/plain": [
       "<Figure size 432x288 with 1 Axes>"
      ]
     },
     "metadata": {
      "needs_background": "light"
     },
     "output_type": "display_data"
    }
   ],
   "source": [
    "plot_scatter(DP, L)"
   ]
  },
  {
   "cell_type": "markdown",
   "metadata": {},
   "source": [
    "## LDA (Linear Discriminant Analysis)"
   ]
  },
  {
   "cell_type": "markdown",
   "metadata": {},
   "source": [
    "To compute the LDA transformation matrix W we need to compute the between and within class covariance matrices:\n",
    "\n",
    "\n",
    "$$ S_B = \\dfrac{1}{N} \\sum_{c=1}^{K} (\\mu_c - \\mu) (\\mu_c - \\mu)^T $$\n",
    "$$ S_W = \\dfrac{1}{N} \\sum_{c=1}^{K} \\sum_{i=1}^{n_c} (x_c,i - \\mu_c) (x_c,i - \\mu_c)^T $$\n"
   ]
  },
  {
   "cell_type": "markdown",
   "metadata": {},
   "source": [
    "The within class covariance matrix can be computed as a weighted sum the covariance matrices of each class:\n",
    "\n",
    "$$ S_w = \\dfrac{1}{N} \\sum_{c=1}^{K} n_c S_w,c $$\n",
    "\n",
    "where \n",
    "\n",
    "$$ S_W,c = \\dfrac{1}{n_c} \\sum_{i=1}^{n_c} (x_c,i - \\mu_c) (x_c,i - \\mu_c)^T $$\n"
   ]
  },
  {
   "cell_type": "code",
   "execution_count": 32,
   "metadata": {},
   "outputs": [],
   "source": [
    "def vcol(vector, shape0):\n",
    "    # Auxiliary function to transform 1-dim vectors to column vectors.\n",
    "    return vector.reshape(shape0, 1)\n",
    "\n",
    "\n",
    "def vrow(vector, shape1):\n",
    "    # Auxiliary function to transform 1-dim vecotrs to row vectors.\n",
    "    return vector.reshape(1, shape1)"
   ]
  },
  {
   "cell_type": "code",
   "execution_count": 33,
   "metadata": {},
   "outputs": [
    {
     "data": {
      "text/plain": [
       "3"
      ]
     },
     "execution_count": 33,
     "metadata": {},
     "output_type": "execute_result"
    }
   ],
   "source": [
    "np.unique(L).shape[0]"
   ]
  },
  {
   "cell_type": "code",
   "execution_count": 45,
   "metadata": {},
   "outputs": [
    {
     "data": {
      "text/plain": [
       "array([[ 63.21213333, -19.95266667, 165.2484    ,  71.27933333],\n",
       "       [-19.95266667,  11.34493333, -57.2396    , -22.93266667],\n",
       "       [165.2484    , -57.2396    , 437.1028    , 186.774     ],\n",
       "       [ 71.27933333, -22.93266667, 186.774     ,  80.41333333]])"
      ]
     },
     "execution_count": 45,
     "metadata": {},
     "output_type": "execute_result"
    }
   ],
   "source": [
    "#compute S_B\n",
    "\n",
    " # Compute mean over columns of the dataset matrix\n",
    "mu = D.mean(axis=1)\n",
    "# Reshape the 1-D array mu to a column vector 4x1\n",
    "mu = vcol(mu, mu.size)\n",
    "# Compute classes means over columns of the dataset matrix\n",
    "mu0 = D[:, L == 0].mean(axis=1)\n",
    "mu1 = D[:, L == 1].mean(axis=1)\n",
    "mu2 = D[:, L == 2].mean(axis=1)\n",
    "# Reshape all of them as 4x1 column vectors\n",
    "mu0 = vcol(mu0, mu0.size)\n",
    "mu1 = vcol(mu1, mu1.size)\n",
    "mu2 = vcol(mu2, mu2.size)\n",
    "# Count number of elements in each class\n",
    "n0 = D[:, L == 0].shape[1]\n",
    "n1 = D[:, L == 1].shape[1]\n",
    "n2 = D[:, L == 2].shape[1]\n",
    "SB = (1/(n0+n1+n2))*((n0*np.dot(mu0-mu, (mu0-mu).T))+(n1*np.dot(mu1-mu, (mu1-mu).T)) +\n",
    "                           (n2*np.dot(mu2-mu, (mu2-mu).T)))\n",
    "\n",
    "((n0*np.dot(mu0-mu, (mu0-mu).T))+(n1*np.dot(mu1-mu, (mu1-mu).T)) +\n",
    "                           (n2*np.dot(mu2-mu, (mu2-mu).T)))"
   ]
  },
  {
   "cell_type": "code",
   "execution_count": 35,
   "metadata": {},
   "outputs": [
    {
     "data": {
      "text/plain": [
       "array([[0.259708  , 0.09086667, 0.164164  , 0.03763333],\n",
       "       [0.09086667, 0.11308   , 0.05413867, 0.032056  ],\n",
       "       [0.164164  , 0.05413867, 0.181484  , 0.041812  ],\n",
       "       [0.03763333, 0.032056  , 0.041812  , 0.041044  ]])"
      ]
     },
     "execution_count": 35,
     "metadata": {},
     "output_type": "execute_result"
    }
   ],
   "source": [
    "#compute S_W\n",
    "# Compute classes means over columns of the dataset matrix\n",
    "mu0 = D[:, L == 0].mean(axis=1)\n",
    "mu1 = D[:, L == 1].mean(axis=1)\n",
    "mu2 = D[:, L == 2].mean(axis=1)\n",
    "# Reshape all of them as 4x1 column vectors\n",
    "mu0 = vcol(mu0, mu0.size)\n",
    "mu1 = vcol(mu1, mu1.size)\n",
    "mu2 = vcol(mu2, mu2.size)\n",
    "# Count number of elements in each class\n",
    "n0 = D[:, L == 0].shape[1]\n",
    "n1 = D[:, L == 1].shape[1]\n",
    "n2 = D[:, L == 2].shape[1]\n",
    "# Compute within covariance matrix for each class\n",
    "Sw0 = (1/n0)*np.dot(D[:, L == 0]-mu0, (D[:, L == 0]-mu0).T)\n",
    "Sw1 = (1/n1)*np.dot(D[:, L == 1]-mu1, (D[:, L == 1]-mu1).T)\n",
    "Sw2 = (1/n2)*np.dot(D[:, L == 2]-mu2, (D[:, L == 2]-mu2).T)\n",
    "SW = (1/(n0+n1+n2))*(n0*Sw0+n1*Sw1+n2*Sw2)\n",
    "SW"
   ]
  },
  {
   "cell_type": "markdown",
   "metadata": {},
   "source": [
    "Once we have computed the matrices, we need to find the solution to the LDA objective. We analyze two methods to compute the LDA directions\n"
   ]
  },
  {
   "cell_type": "markdown",
   "metadata": {},
   "source": [
    "### Generalized eigenvalue problem\n"
   ]
  },
  {
   "cell_type": "markdown",
   "metadata": {},
   "source": [
    "The LDA directions (columns of W ) can be computed solving the generalized eigenvalue problem\n",
    "\n",
    "$$S_Bw = \\lambda S_W w$$"
   ]
  },
  {
   "cell_type": "code",
   "execution_count": 36,
   "metadata": {},
   "outputs": [
    {
     "data": {
      "text/plain": [
       "array([[ 0.83779794,  0.02434685],\n",
       "       [ 1.55005187,  2.18649663],\n",
       "       [-2.22355955, -0.94138258],\n",
       "       [-2.83899363,  2.86801283]])"
      ]
     },
     "execution_count": 36,
     "metadata": {},
     "output_type": "execute_result"
    }
   ],
   "source": [
    "s, U = sc.eigh(SB, SW)\n",
    "W = U[:, ::-1][:, 0:m]\n",
    "W\n"
   ]
  },
  {
   "cell_type": "markdown",
   "metadata": {},
   "source": [
    "### Solving the eigenvalue problem by joint diagonalization of $S_B$ and $S_W$\n"
   ]
  },
  {
   "cell_type": "markdown",
   "metadata": {},
   "source": [
    "We have seen that the LDA solution can be implemented as a first transformation that whitens thecwithin class covariance matrix, followed by a projection on the leading eigenvectors of the transformedcbetween class covariance.\n",
    "\n",
    "The first step consists in estimating matrix $P_1$ such that the within class covariance of the transformed points $P_1x$ is the identity. Applying the transformation $P_1$ the covariance becomes $P_1S_wP_1^T$, thus we\n",
    "can compute $P_1$ as:\n",
    "\n",
    "$$P_1 = U\\Sigma^\\frac{-1}{2}U^T$$\n",
    "\n",
    "where $U \\Sigma U^T$ is the SVD of $S_W$. \n"
   ]
  },
  {
   "cell_type": "code",
   "execution_count": 37,
   "metadata": {},
   "outputs": [],
   "source": [
    "U, s, _ = np.linalg.svd(SW)"
   ]
  },
  {
   "cell_type": "code",
   "execution_count": 38,
   "metadata": {},
   "outputs": [],
   "source": [
    " # Compute P1 matrix\n",
    "P1 = np.dot(np.dot(U, np.diag(1.0/(s**0.5))), U.T)"
   ]
  },
  {
   "cell_type": "markdown",
   "metadata": {},
   "source": [
    "The transformed between class covariance S BT can be computed as:\n",
    "\n",
    "$$S_{BT} = P_1 S_B P_1^T $$\n"
   ]
  },
  {
   "cell_type": "code",
   "execution_count": 39,
   "metadata": {},
   "outputs": [],
   "source": [
    " # Compute transformed SB\n",
    "SBT = np.dot(np.dot(P1, SB), P1.T)"
   ]
  },
  {
   "cell_type": "markdown",
   "metadata": {},
   "source": [
    "We finally need to compute the matrix $P_2$ of eigenvectors of $S_{BT}$ corresponding to its $m$ highest eigenvalues. The transformation from the original space to the LDA subspace can then be expressed\n",
    "as $y = P_2^T P_1 x$. Thus, the LDA matrix $W$ is given by $W = P_1^T P_2$, and the LDA transformation is $y = W^T x$. Again, we can observe that the solution is not orthogonal.\n"
   ]
  },
  {
   "cell_type": "code",
   "execution_count": 61,
   "metadata": {},
   "outputs": [
    {
     "data": {
      "text/plain": [
       "array([[5.1, 4.9, 4.7, 4.6, 5. , 5.4, 4.6, 5. , 4.4, 4.9, 5.4, 4.8, 4.8,\n",
       "        4.3, 5.8, 5.7, 5.4, 5.1, 5.7, 5.1, 5.4, 5.1, 4.6, 5.1, 4.8, 5. ,\n",
       "        5. , 5.2, 5.2, 4.7, 4.8, 5.4, 5.2, 5.5, 4.9, 5. , 5.5, 4.9, 4.4,\n",
       "        5.1, 5. , 4.5, 4.4, 5. , 5.1, 4.8, 5.1, 4.6, 5.3, 5. , 7. , 6.4,\n",
       "        6.9, 5.5, 6.5, 5.7, 6.3, 4.9, 6.6, 5.2, 5. , 5.9, 6. , 6.1, 5.6,\n",
       "        6.7, 5.6, 5.8, 6.2, 5.6, 5.9, 6.1, 6.3, 6.1, 6.4, 6.6, 6.8, 6.7,\n",
       "        6. , 5.7, 5.5, 5.5, 5.8, 6. , 5.4, 6. , 6.7, 6.3, 5.6, 5.5, 5.5,\n",
       "        6.1, 5.8, 5. , 5.6, 5.7, 5.7, 6.2, 5.1, 5.7, 6.3, 5.8, 7.1, 6.3,\n",
       "        6.5, 7.6, 4.9, 7.3, 6.7, 7.2, 6.5, 6.4, 6.8, 5.7, 5.8, 6.4, 6.5,\n",
       "        7.7, 7.7, 6. , 6.9, 5.6, 7.7, 6.3, 6.7, 7.2, 6.2, 6.1, 6.4, 7.2,\n",
       "        7.4, 7.9, 6.4, 6.3, 6.1, 7.7, 6.3, 6.4, 6. , 6.9, 6.7, 6.9, 5.8,\n",
       "        6.8, 6.7, 6.7, 6.3, 6.5, 6.2, 5.9],\n",
       "       [3.5, 3. , 3.2, 3.1, 3.6, 3.9, 3.4, 3.4, 2.9, 3.1, 3.7, 3.4, 3. ,\n",
       "        3. , 4. , 4.4, 3.9, 3.5, 3.8, 3.8, 3.4, 3.7, 3.6, 3.3, 3.4, 3. ,\n",
       "        3.4, 3.5, 3.4, 3.2, 3.1, 3.4, 4.1, 4.2, 3.1, 3.2, 3.5, 3.6, 3. ,\n",
       "        3.4, 3.5, 2.3, 3.2, 3.5, 3.8, 3. , 3.8, 3.2, 3.7, 3.3, 3.2, 3.2,\n",
       "        3.1, 2.3, 2.8, 2.8, 3.3, 2.4, 2.9, 2.7, 2. , 3. , 2.2, 2.9, 2.9,\n",
       "        3.1, 3. , 2.7, 2.2, 2.5, 3.2, 2.8, 2.5, 2.8, 2.9, 3. , 2.8, 3. ,\n",
       "        2.9, 2.6, 2.4, 2.4, 2.7, 2.7, 3. , 3.4, 3.1, 2.3, 3. , 2.5, 2.6,\n",
       "        3. , 2.6, 2.3, 2.7, 3. , 2.9, 2.9, 2.5, 2.8, 3.3, 2.7, 3. , 2.9,\n",
       "        3. , 3. , 2.5, 2.9, 2.5, 3.6, 3.2, 2.7, 3. , 2.5, 2.8, 3.2, 3. ,\n",
       "        3.8, 2.6, 2.2, 3.2, 2.8, 2.8, 2.7, 3.3, 3.2, 2.8, 3. , 2.8, 3. ,\n",
       "        2.8, 3.8, 2.8, 2.8, 2.6, 3. , 3.4, 3.1, 3. , 3.1, 3.1, 3.1, 2.7,\n",
       "        3.2, 3.3, 3. , 2.5, 3. , 3.4, 3. ],\n",
       "       [1.4, 1.4, 1.3, 1.5, 1.4, 1.7, 1.4, 1.5, 1.4, 1.5, 1.5, 1.6, 1.4,\n",
       "        1.1, 1.2, 1.5, 1.3, 1.4, 1.7, 1.5, 1.7, 1.5, 1. , 1.7, 1.9, 1.6,\n",
       "        1.6, 1.5, 1.4, 1.6, 1.6, 1.5, 1.5, 1.4, 1.5, 1.2, 1.3, 1.4, 1.3,\n",
       "        1.5, 1.3, 1.3, 1.3, 1.6, 1.9, 1.4, 1.6, 1.4, 1.5, 1.4, 4.7, 4.5,\n",
       "        4.9, 4. , 4.6, 4.5, 4.7, 3.3, 4.6, 3.9, 3.5, 4.2, 4. , 4.7, 3.6,\n",
       "        4.4, 4.5, 4.1, 4.5, 3.9, 4.8, 4. , 4.9, 4.7, 4.3, 4.4, 4.8, 5. ,\n",
       "        4.5, 3.5, 3.8, 3.7, 3.9, 5.1, 4.5, 4.5, 4.7, 4.4, 4.1, 4. , 4.4,\n",
       "        4.6, 4. , 3.3, 4.2, 4.2, 4.2, 4.3, 3. , 4.1, 6. , 5.1, 5.9, 5.6,\n",
       "        5.8, 6.6, 4.5, 6.3, 5.8, 6.1, 5.1, 5.3, 5.5, 5. , 5.1, 5.3, 5.5,\n",
       "        6.7, 6.9, 5. , 5.7, 4.9, 6.7, 4.9, 5.7, 6. , 4.8, 4.9, 5.6, 5.8,\n",
       "        6.1, 6.4, 5.6, 5.1, 5.6, 6.1, 5.6, 5.5, 4.8, 5.4, 5.6, 5.1, 5.1,\n",
       "        5.9, 5.7, 5.2, 5. , 5.2, 5.4, 5.1],\n",
       "       [0.2, 0.2, 0.2, 0.2, 0.2, 0.4, 0.3, 0.2, 0.2, 0.1, 0.2, 0.2, 0.1,\n",
       "        0.1, 0.2, 0.4, 0.4, 0.3, 0.3, 0.3, 0.2, 0.4, 0.2, 0.5, 0.2, 0.2,\n",
       "        0.4, 0.2, 0.2, 0.2, 0.2, 0.4, 0.1, 0.2, 0.2, 0.2, 0.2, 0.1, 0.2,\n",
       "        0.2, 0.3, 0.3, 0.2, 0.6, 0.4, 0.3, 0.2, 0.2, 0.2, 0.2, 1.4, 1.5,\n",
       "        1.5, 1.3, 1.5, 1.3, 1.6, 1. , 1.3, 1.4, 1. , 1.5, 1. , 1.4, 1.3,\n",
       "        1.4, 1.5, 1. , 1.5, 1.1, 1.8, 1.3, 1.5, 1.2, 1.3, 1.4, 1.4, 1.7,\n",
       "        1.5, 1. , 1.1, 1. , 1.2, 1.6, 1.5, 1.6, 1.5, 1.3, 1.3, 1.3, 1.2,\n",
       "        1.4, 1.2, 1. , 1.3, 1.2, 1.3, 1.3, 1.1, 1.3, 2.5, 1.9, 2.1, 1.8,\n",
       "        2.2, 2.1, 1.7, 1.8, 1.8, 2.5, 2. , 1.9, 2.1, 2. , 2.4, 2.3, 1.8,\n",
       "        2.2, 2.3, 1.5, 2.3, 2. , 2. , 1.8, 2.1, 1.8, 1.8, 1.8, 2.1, 1.6,\n",
       "        1.9, 2. , 2.2, 1.5, 1.4, 2.3, 2.4, 1.8, 1.8, 2.1, 2.4, 2.3, 1.9,\n",
       "        2.3, 2.5, 2.3, 1.9, 2. , 2.3, 1.8]])"
      ]
     },
     "execution_count": 61,
     "metadata": {},
     "output_type": "execute_result"
    }
   ],
   "source": [
    "# Get eigenvectors (columns of U ) from SBT\n",
    "_, U = np.linalg.eigh(SBT)\n",
    "\n",
    "# Compute P2 (m leading eigenvectors)\n",
    "P2 = U[:, ::-1][:, 0:m]\n",
    "# Compute W\n",
    "W = np.dot(P1.T, P2)\n",
    "# LDA projection matrix\n",
    "DP = np.dot(W.T, D)\n",
    "D"
   ]
  },
  {
   "cell_type": "code",
   "execution_count": 41,
   "metadata": {},
   "outputs": [
    {
     "data": {
      "image/png": "[encoded data removed]",
      "text/plain": [
       "<Figure size 432x288 with 1 Axes>"
      ]
     },
     "metadata": {
      "needs_background": "light"
     },
     "output_type": "display_data"
    }
   ],
   "source": [
    "plot_scatter(DP, L)"
   ]
  },
  {
   "cell_type": "code",
   "execution_count": 51,
   "metadata": {},
   "outputs": [
    {
     "data": {
      "text/plain": [
       "array([5.97718743e+00, 4.92713759e+00, 3.79904219e-14, 6.62911463e-16])"
      ]
     },
     "execution_count": 51,
     "metadata": {},
     "output_type": "execute_result"
    }
   ],
   "source": [
    "\n",
    "solutionLDA = np.load('./solutions/IRIS_LDA_matrix_m2.npy')\n",
    "np.linalg.svd(np.hstack([W, solutionLDA]))[1]\n"
   ]
  },
  {
   "cell_type": "code",
   "execution_count": 56,
   "metadata": {},
   "outputs": [
    {
     "data": {
      "text/plain": [
       "array([[-0.83779794,  0.02434685],\n",
       "       [-1.55005187,  2.18649663],\n",
       "       [ 2.22355955, -0.94138258],\n",
       "       [ 2.83899363,  2.86801283]])"
      ]
     },
     "execution_count": 56,
     "metadata": {},
     "output_type": "execute_result"
    }
   ],
   "source": [
    "W"
   ]
  },
  {
   "cell_type": "code",
   "execution_count": null,
   "metadata": {},
   "outputs": [],
   "source": []
  }
 ],
 "metadata": {
  "interpreter": {
   "hash": "20077b7d1bf57ab26971ff2f0fd3e9d3bdb941da4b07257f74cc5c118759c9ef"
  },
  "kernelspec": {
   "display_name": "Python 3.8.10 ('venv': venv)",
   "language": "python",
   "name": "python3"
  },
  "language_info": {
   "codemirror_mode": {
    "name": "ipython",
    "version": 3
   },
   "file_extension": ".py",
   "mimetype": "text/x-python",
   "name": "python",
   "nbconvert_exporter": "python",
   "pygments_lexer": "ipython3",
   "version": "3.8.10"
  },
  "orig_nbformat": 4
 },
 "nbformat": 4,
 "nbformat_minor": 2
}
