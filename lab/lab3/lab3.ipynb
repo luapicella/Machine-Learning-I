{
 "cells": [
  {
   "cell_type": "code",
   "execution_count": 34,
   "metadata": {},
   "outputs": [],
   "source": [
    "import numpy as np\n",
    "import matplotlib\n",
    "import matplotlib.pyplot as plt"
   ]
  },
  {
   "cell_type": "code",
   "execution_count": 41,
   "metadata": {},
   "outputs": [],
   "source": [
    "def mcol(v):\n",
    "    return v.reshape((v.size, 1))\n",
    "\n",
    "def load_iris(filename):\n",
    "\n",
    "    hlabels = {\n",
    "        'Iris-setosa': 0,\n",
    "        'Iris-versicolor': 1,\n",
    "        'Iris-virginica': 2 \n",
    "    }\n",
    "\n",
    "    datalist = []\n",
    "    labellist = []\n",
    "\n",
    "    with open(filename, 'r') as file:\n",
    "        for line in file:\n",
    "            line = line.split(\",\")\n",
    "            name = line[-1].strip()\n",
    "            label = hlabels[name]\n",
    "            attrs = mcol(np.array([float(i) for i in line[:-1]]))\n",
    "            datalist.append(attrs)\n",
    "            labellist.append(label)\n",
    "\n",
    "    return np.hstack(datalist), np.array(labellist, dtype=np.int32)\n",
    "\n",
    "def plot_scatter(D, L):\n",
    "    \n",
    "    D0 = D[:, L==0]\n",
    "    D1 = D[:, L==1]\n",
    "    D2 = D[:, L==2]\n",
    "\n",
    "    hFea = {\n",
    "        0: 'Sepal length',\n",
    "        1: 'Sepal width',\n",
    "        2: 'Petal length',\n",
    "        3: 'Petal width'\n",
    "        }\n",
    "\n",
    "    \n",
    "    plt.figure()\n",
    "    plt.xlabel(\"PCA1\")\n",
    "    plt.ylabel(\"PCA2\")\n",
    "    plt.scatter(D0[0, :], D0[1, :], label = 'Setosa')\n",
    "    plt.scatter(D1[0, :], D1[1, :], label = 'Versicolor')\n",
    "    plt.scatter(D2[0, :], D2[1, :], label = 'Virginica')\n",
    "\n",
    "    plt.legend()\n",
    "    plt.tight_layout() # Use with non-default font size to keep axis label inside the figure\n",
    "    #plt.savefig(folder + '/scatter_%d_%d.pdf' % (dIdx1, dIdx2))\n",
    "    plt.show()"
   ]
  },
  {
   "cell_type": "code",
   "execution_count": 7,
   "metadata": {},
   "outputs": [],
   "source": [
    "D, L = load_iris('../data/iris.csv')"
   ]
  },
  {
   "cell_type": "code",
   "execution_count": 21,
   "metadata": {},
   "outputs": [
    {
     "data": {
      "text/plain": [
       "array([[5.84333333],\n",
       "       [3.05733333],\n",
       "       [3.758     ],\n",
       "       [1.19933333]])"
      ]
     },
     "execution_count": 21,
     "metadata": {},
     "output_type": "execute_result"
    }
   ],
   "source": [
    "\n",
    "#compute mean of the dataset\n",
    "mu = D.mean(axis=1).reshape((mu.size, 1))\n",
    "#center the data\n",
    "DC = D - mu\n",
    "mu\n"
   ]
  },
  {
   "cell_type": "markdown",
   "metadata": {},
   "source": [
    "Compute the covariance matric **C** as:\n",
    "\n",
    "$C = \\dfrac{1}{N} D_c D_C^T$\n",
    "\n"
   ]
  },
  {
   "cell_type": "code",
   "execution_count": 24,
   "metadata": {},
   "outputs": [
    {
     "data": {
      "text/plain": [
       "array([[ 0.68112222, -0.04215111,  1.26582   ,  0.51282889],\n",
       "       [-0.04215111,  0.18871289, -0.32745867, -0.12082844],\n",
       "       [ 1.26582   , -0.32745867,  3.09550267,  1.286972  ],\n",
       "       [ 0.51282889, -0.12082844,  1.286972  ,  0.57713289]])"
      ]
     },
     "execution_count": 24,
     "metadata": {},
     "output_type": "execute_result"
    }
   ],
   "source": [
    "C = np.dot(DC,DC.T) / float(DC.shape[1])\n",
    "C"
   ]
  },
  {
   "cell_type": "markdown",
   "metadata": {},
   "source": [
    "Once we have computed the data covariance matrix, we need to compute its eigenvectors and eigen-\n",
    "values."
   ]
  },
  {
   "cell_type": "code",
   "execution_count": 26,
   "metadata": {},
   "outputs": [
    {
     "data": {
      "text/plain": [
       "array([0.02367619, 0.0776881 , 0.24105294, 4.20005343])"
      ]
     },
     "execution_count": 26,
     "metadata": {},
     "output_type": "execute_result"
    }
   ],
   "source": [
    "s, U = np.linalg.eigh(C)\n",
    "s"
   ]
  },
  {
   "cell_type": "markdown",
   "metadata": {},
   "source": [
    "The m leading eigenvectors can be\n",
    "retrieved from U (here we also reverse the order of the columns of U so that the leading eigenvectors are in the frst m columns)"
   ]
  },
  {
   "cell_type": "code",
   "execution_count": 30,
   "metadata": {},
   "outputs": [
    {
     "data": {
      "text/plain": [
       "array([[-0.36138659,  0.65658877],\n",
       "       [ 0.08452251,  0.73016143],\n",
       "       [-0.85667061, -0.17337266],\n",
       "       [-0.3582892 , -0.07548102]])"
      ]
     },
     "execution_count": 30,
     "metadata": {},
     "output_type": "execute_result"
    }
   ],
   "source": [
    "m = 2\n",
    "P = U[:, ::-1][:, 0:m]\n",
    "P"
   ]
  },
  {
   "cell_type": "markdown",
   "metadata": {},
   "source": [
    "Since the covariance matrix is semi-de\u001cnite positive, we can also get the sorted eigenvectors from the Singular Value Decomposition.\n",
    "\n",
    "$ C = U \\Sigma V^T $\n",
    "\n",
    "In fatc, in this case $V^T = U^T $, thus $U \\Sigma V^T = U \\Sigma U^T$ is also an eigen-decomposition of $C$ \n"
   ]
  },
  {
   "cell_type": "code",
   "execution_count": 31,
   "metadata": {},
   "outputs": [],
   "source": [
    "U, s, Vh = np.linalg.svd(C)"
   ]
  },
  {
   "cell_type": "code",
   "execution_count": 32,
   "metadata": {},
   "outputs": [],
   "source": [
    "P = U[:, 0:m]"
   ]
  },
  {
   "cell_type": "markdown",
   "metadata": {},
   "source": [
    "Finally, we can apply the projection to a single point x or to a matrix of samples D as:"
   ]
  },
  {
   "cell_type": "code",
   "execution_count": 40,
   "metadata": {},
   "outputs": [
    {
     "data": {
      "text/plain": [
       "(2, 150)"
      ]
     },
     "execution_count": 40,
     "metadata": {},
     "output_type": "execute_result"
    }
   ],
   "source": [
    "#y = np.dot(P.T, x)\n",
    "DP = np.dot(P.T, DC)\n",
    "DP.shape"
   ]
  },
  {
   "cell_type": "markdown",
   "metadata": {},
   "source": [
    "As we can se the classes present some zone where the point are overllapped"
   ]
  },
  {
   "cell_type": "code",
   "execution_count": 42,
   "metadata": {},
   "outputs": [
    {
     "data": {
      "image/png": "[encoded data removed]",
      "text/plain": [
       "<Figure size 432x288 with 1 Axes>"
      ]
     },
     "metadata": {
      "needs_background": "light"
     },
     "output_type": "display_data"
    }
   ],
   "source": [
    "plot_scatter(DP, L)"
   ]
  },
  {
   "cell_type": "code",
   "execution_count": null,
   "metadata": {},
   "outputs": [],
   "source": []
  }
 ],
 "metadata": {
  "interpreter": {
   "hash": "20077b7d1bf57ab26971ff2f0fd3e9d3bdb941da4b07257f74cc5c118759c9ef"
  },
  "kernelspec": {
   "display_name": "Python 3.8.10 ('venv': venv)",
   "language": "python",
   "name": "python3"
  },
  "language_info": {
   "codemirror_mode": {
    "name": "ipython",
    "version": 3
   },
   "file_extension": ".py",
   "mimetype": "text/x-python",
   "name": "python",
   "nbconvert_exporter": "python",
   "pygments_lexer": "ipython3",
   "version": "3.8.10"
  },
  "orig_nbformat": 4
 },
 "nbformat": 4,
 "nbformat_minor": 2
}
